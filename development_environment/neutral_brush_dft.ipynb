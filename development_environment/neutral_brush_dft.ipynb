{
 "cells": [
  {
   "cell_type": "markdown",
   "id": "b99ffd2e",
   "metadata": {},
   "source": [
    "# Neutral brush cDFT"
   ]
  },
  {
   "cell_type": "code",
   "execution_count": null,
   "id": "f5d5249a",
   "metadata": {},
   "outputs": [],
   "source": [
    "import jax\n",
    "import jax.numpy as jnp\n",
    "from jax.scipy.linalg import solve_banded"
   ]
  },
  {
   "cell_type": "code",
   "execution_count": null,
   "id": "e649faaf",
   "metadata": {},
   "outputs": [],
   "source": [
    "def setup_grid(z_points: jnp.ndarray):\n",
    "    z = z_points\n",
    "    dz = jnp.diff(z)\n",
    "    dzm = dz[:-1]\n",
    "    dzp = dz[1:]\n",
    "    return z, dz, dzm, dzp"
   ]
  },
  {
   "cell_type": "code",
   "execution_count": null,
   "id": "ad17052d",
   "metadata": {},
   "outputs": [],
   "source": [
    "def crank_nicolson_step(q, w, dzm, dzp, b, dt):\n",
    "    N = q.size\n",
    "    alpha = b ** 2 / 6\n",
    "\n",
    "    # Build diagonals of tridiagonal matrix A and B\n",
    "    main = jnp.zeros(N)\n",
    "    upper = jnp.zeros(N - 1)\n",
    "    lower = jnp.zeros(N - 1)\n",
    "\n",
    "    for i in range(1, N - 1):\n",
    "        dzmi = dzm[i - 1]\n",
    "        dzpi = dzp[i - 1]\n",
    "        denom = dzmi * (dzmi + dzpi) * dzpi\n",
    "\n",
    "        lower = lower.at[i - 1].set(-2 * alpha * dt / (dzmi * (dzmi + dzpi)))\n",
    "        main = main.at[i].set(1 + 2 * alpha * dt / denom + dt * w[i] / 2)\n",
    "        upper = upper.at[i].set(-2 * alpha * dt / (dzpi * (dzmi + dzpi)))\n",
    "\n",
    "    # Neumann BCs (zero flux)\n",
    "    main = main.at[0].set(1.0)\n",
    "    main = main.at[-1].set(1.0)\n",
    "\n",
    "    # Right-hand side: B * q\n",
    "    rhs = jnp.zeros_like(q)\n",
    "    for i in range(1, N - 1):\n",
    "        dzmi = dzm[i - 1]\n",
    "        dzpi = dzp[i - 1]\n",
    "        denom = dzmi * (dzmi + dzpi) * dzpi\n",
    "\n",
    "        rhs = rhs.at[i].set(\n",
    "            (1 - 2 * alpha * dt / denom - dt * w[i] / 2) * q[i]\n",
    "            + 2 * alpha * dt / (dzpi * (dzmi + dzpi)) * q[i + 1]\n",
    "            + 2 * alpha * dt / (dzmi * (dzmi + dzpi)) * q[i - 1]\n",
    "        )\n",
    "\n",
    "    rhs = rhs.at[0].set(q[0])\n",
    "    rhs = rhs.at[-1].set(q[-1])\n",
    "\n",
    "    # Solve tridiagonal system\n",
    "    ab = jnp.zeros((3, N))\n",
    "    ab = ab.at[0, 1:].set(upper)\n",
    "    ab = ab.at[1, :].set(main)\n",
    "    ab = ab.at[2, :-1].set(lower)\n",
    "\n",
    "    q_new = solve_banded((1, 1), ab, rhs)\n",
    "    return q_new"
   ]
  }
 ],
 "metadata": {
  "kernelspec": {
   "display_name": "venv (3.10.11)",
   "language": "python",
   "name": "python3"
  },
  "language_info": {
   "name": "python",
   "version": "3.10.11"
  }
 },
 "nbformat": 4,
 "nbformat_minor": 5
}
